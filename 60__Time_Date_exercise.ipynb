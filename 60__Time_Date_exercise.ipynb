{
 "cells": [
  {
   "cell_type": "code",
   "execution_count": null,
   "metadata": {
    "ExecuteTime": {
     "end_time": "2020-03-11T18:12:16.621844Z",
     "start_time": "2020-03-11T18:12:16.618328Z"
    }
   },
   "outputs": [],
   "source": [
    "import datetime"
   ]
  },
  {
   "cell_type": "code",
   "execution_count": null,
   "metadata": {
    "ExecuteTime": {
     "end_time": "2020-03-11T18:13:35.313608Z",
     "start_time": "2020-03-11T18:13:35.303528Z"
    }
   },
   "outputs": [],
   "source": [
    "# print\n",
    "# a) Current date and time\n",
    "# b) Current year\n",
    "# c) Month of year\n",
    "# d) Week number of the year\n",
    "# e) Weekday of the week\n",
    "# f) Day of year\n",
    "# g) Day of the month\n",
    "# h) Day of week\n",
    "\n",
    "print(\"Current date and time: \" , datetime.datetime.now())\n",
    "print(\"Current year: \", datetime.date.today().strftime(\"%Y\"))\n",
    "print(\"Month of year: \", datetime.date.today().strftime(\"%B\"))\n",
    "print(\"Week number of the year: \", datetime.date.today().strftime(\"%W\"))\n",
    "print(\"Weekday of the week: \", datetime.date.today().strftime(\"%w\"))\n",
    "print(\"Day of year: \", datetime.date.today().strftime(\"%j\"))\n",
    "print(\"Day of the month : \", datetime.date.today().strftime(\"%d\"))\n",
    "print(\"Day of week: \", datetime.date.today().strftime(\"%A\"))"
   ]
  },
  {
   "cell_type": "code",
   "execution_count": null,
   "metadata": {
    "ExecuteTime": {
     "end_time": "2020-03-11T18:16:23.529656Z",
     "start_time": "2020-03-11T18:16:23.524579Z"
    }
   },
   "outputs": [],
   "source": [
    "#  convert a string to datetime\n",
    "string = 'Jan 1 2014 2:43PM'\n",
    "print(datetime.datetime.strptime('Jul 1 2014 2:43PM', '%b %d %Y %I:%M%p'))"
   ]
  },
  {
   "cell_type": "code",
   "execution_count": null,
   "metadata": {
    "ExecuteTime": {
     "end_time": "2020-03-11T18:16:28.915595Z",
     "start_time": "2020-03-11T18:16:28.909658Z"
    }
   },
   "outputs": [],
   "source": [
    "# print current time \n",
    "print(datetime.datetime.now())"
   ]
  },
  {
   "cell_type": "code",
   "execution_count": null,
   "metadata": {
    "ExecuteTime": {
     "end_time": "2020-03-11T18:17:25.263109Z",
     "start_time": "2020-03-11T18:17:25.258345Z"
    }
   },
   "outputs": [],
   "source": [
    "# subtract five days from current date\n",
    "print(datetime.datetime.now() - datetime.timedelta(days=5))"
   ]
  },
  {
   "cell_type": "code",
   "execution_count": null,
   "metadata": {
    "ExecuteTime": {
     "end_time": "2020-03-11T18:19:02.952818Z",
     "start_time": "2020-03-11T18:19:02.946930Z"
    }
   },
   "outputs": [],
   "source": [
    "#  convert unix timestamp string to readable date\n",
    "unix = 1284105682\n",
    "print(datetime.datetime.fromtimestamp(unix))"
   ]
  },
  {
   "cell_type": "code",
   "execution_count": null,
   "metadata": {
    "ExecuteTime": {
     "end_time": "2020-03-11T18:20:51.246079Z",
     "start_time": "2020-03-11T18:20:51.237963Z"
    }
   },
   "outputs": [],
   "source": [
    "# convert today date to Day of Year\n",
    "today = datetime.datetime.now()\n",
    "(today - datetime.datetime(today.year, 1, 1)).days + 1"
   ]
  },
  {
   "cell_type": "code",
   "execution_count": null,
   "metadata": {
    "ExecuteTime": {
     "end_time": "2020-03-11T18:24:46.728764Z",
     "start_time": "2020-03-11T18:24:46.723039Z"
    }
   },
   "outputs": [],
   "source": [
    "# get week number from today's date\n",
    "print(datetime.datetime.today().isocalendar()[1])"
   ]
  },
  {
   "cell_type": "code",
   "execution_count": null,
   "metadata": {
    "ExecuteTime": {
     "end_time": "2020-03-11T18:26:32.388920Z",
     "start_time": "2020-03-11T18:26:32.377954Z"
    }
   },
   "outputs": [],
   "source": [
    "# get days between two dates\n",
    "date_a = datetime.date(2020,2,2)\n",
    "date_b = datetime.date(2020,1,1)\n",
    "print((date_a - date_b).days)"
   ]
  },
  {
   "cell_type": "code",
   "execution_count": null,
   "metadata": {
    "ExecuteTime": {
     "end_time": "2020-03-11T18:29:32.164693Z",
     "start_time": "2020-03-11T18:29:32.158673Z"
    }
   },
   "outputs": [],
   "source": [
    "# get the number of days of a given month and year\n",
    "month = 10\n",
    "year = 2016\n",
    "from calendar import monthrange\n",
    "print(monthrange(year, month)[1])"
   ]
  },
  {
   "cell_type": "code",
   "execution_count": null,
   "metadata": {
    "ExecuteTime": {
     "end_time": "2020-03-11T18:34:01.614420Z",
     "start_time": "2020-03-11T18:34:01.605298Z"
    }
   },
   "outputs": [],
   "source": [
    "# get a list of dates between two dates\n",
    "start_dt = datetime.date(2015, 12, 20)\n",
    "end_dt = datetime.date(2016, 1, 11)\n",
    "\n",
    "list_of_dates = [(start_dt + datetime.timedelta(days=i)).isoformat() for i in range(1,(end_dt - start_dt).days)]\n",
    "list_of_dates"
   ]
  },
  {
   "cell_type": "code",
   "execution_count": null,
   "metadata": {},
   "outputs": [],
   "source": []
  }
 ],
 "metadata": {
  "kernelspec": {
   "display_name": "Python 3",
   "language": "python",
   "name": "python3"
  },
  "language_info": {
   "codemirror_mode": {
    "name": "ipython",
    "version": 3
   },
   "file_extension": ".py",
   "mimetype": "text/x-python",
   "name": "python",
   "nbconvert_exporter": "python",
   "pygments_lexer": "ipython3",
   "version": "3.7.4"
  },
  "toc": {
   "base_numbering": 1,
   "nav_menu": {},
   "number_sections": true,
   "sideBar": true,
   "skip_h1_title": false,
   "title_cell": "Table of Contents",
   "title_sidebar": "Contents",
   "toc_cell": false,
   "toc_position": {},
   "toc_section_display": true,
   "toc_window_display": false
  },
  "varInspector": {
   "cols": {
    "lenName": 16,
    "lenType": 16,
    "lenVar": 40
   },
   "kernels_config": {
    "python": {
     "delete_cmd_postfix": "",
     "delete_cmd_prefix": "del ",
     "library": "var_list.py",
     "varRefreshCmd": "print(var_dic_list())"
    },
    "r": {
     "delete_cmd_postfix": ") ",
     "delete_cmd_prefix": "rm(",
     "library": "var_list.r",
     "varRefreshCmd": "cat(var_dic_list()) "
    }
   },
   "types_to_exclude": [
    "module",
    "function",
    "builtin_function_or_method",
    "instance",
    "_Feature"
   ],
   "window_display": false
  }
 },
 "nbformat": 4,
 "nbformat_minor": 2
}
