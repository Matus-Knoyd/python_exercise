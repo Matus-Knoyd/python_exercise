{
 "cells": [
  {
   "cell_type": "markdown",
   "metadata": {},
   "source": [
    "# Sets"
   ]
  },
  {
   "cell_type": "code",
   "execution_count": null,
   "metadata": {
    "ExecuteTime": {
     "end_time": "2020-03-11T15:34:30.076616Z",
     "start_time": "2020-03-11T15:34:30.070344Z"
    }
   },
   "outputs": [],
   "source": [
    "# create a new empty set \n"
   ]
  },
  {
   "cell_type": "code",
   "execution_count": null,
   "metadata": {
    "ExecuteTime": {
     "end_time": "2020-03-11T15:34:30.380080Z",
     "start_time": "2020-03-11T15:34:30.373118Z"
    }
   },
   "outputs": [],
   "source": [
    "# create a non empty set\n"
   ]
  },
  {
   "cell_type": "code",
   "execution_count": null,
   "metadata": {
    "ExecuteTime": {
     "end_time": "2020-03-11T15:35:45.626106Z",
     "start_time": "2020-03-11T15:35:45.620055Z"
    }
   },
   "outputs": [],
   "source": [
    "# iterate over set and print results\n"
   ]
  },
  {
   "cell_type": "code",
   "execution_count": null,
   "metadata": {
    "ExecuteTime": {
     "end_time": "2020-03-11T15:36:34.857513Z",
     "start_time": "2020-03-11T15:36:34.842250Z"
    }
   },
   "outputs": [],
   "source": [
    "# add one item to the set\n"
   ]
  },
  {
   "cell_type": "code",
   "execution_count": null,
   "metadata": {
    "ExecuteTime": {
     "end_time": "2020-03-11T15:37:06.472504Z",
     "start_time": "2020-03-11T15:37:06.464808Z"
    }
   },
   "outputs": [],
   "source": [
    "# add multiple items to the set\n"
   ]
  },
  {
   "cell_type": "code",
   "execution_count": null,
   "metadata": {
    "ExecuteTime": {
     "end_time": "2020-03-11T15:39:38.794240Z",
     "start_time": "2020-03-11T15:39:38.787218Z"
    }
   },
   "outputs": [],
   "source": [
    "# remove an item from a set if it is present in the set\n"
   ]
  },
  {
   "cell_type": "code",
   "execution_count": null,
   "metadata": {
    "ExecuteTime": {
     "end_time": "2020-03-11T15:43:54.427165Z",
     "start_time": "2020-03-11T15:43:54.418887Z"
    }
   },
   "outputs": [],
   "source": [
    "# find maximum and minimum values of the set\n"
   ]
  },
  {
   "cell_type": "code",
   "execution_count": null,
   "metadata": {
    "ExecuteTime": {
     "end_time": "2020-03-11T15:44:20.122724Z",
     "start_time": "2020-03-11T15:44:20.115939Z"
    }
   },
   "outputs": [],
   "source": [
    "# print the length of the set\n"
   ]
  },
  {
   "cell_type": "code",
   "execution_count": null,
   "metadata": {
    "ExecuteTime": {
     "end_time": "2020-03-11T15:44:23.944967Z",
     "start_time": "2020-03-11T15:44:23.933498Z"
    }
   },
   "outputs": [],
   "source": [
    "x = set([\"green\", \"blue\"])\n",
    "y = set([\"blue\", \"yellow\"])"
   ]
  },
  {
   "cell_type": "code",
   "execution_count": null,
   "metadata": {
    "ExecuteTime": {
     "end_time": "2020-03-11T15:44:24.181998Z",
     "start_time": "2020-03-11T15:44:24.167917Z"
    }
   },
   "outputs": [],
   "source": [
    "# create an intersection of x and y\n"
   ]
  },
  {
   "cell_type": "code",
   "execution_count": null,
   "metadata": {
    "ExecuteTime": {
     "end_time": "2020-03-11T15:44:24.363816Z",
     "start_time": "2020-03-11T15:44:24.355679Z"
    }
   },
   "outputs": [],
   "source": [
    "# create an union of x and y\n"
   ]
  },
  {
   "cell_type": "code",
   "execution_count": null,
   "metadata": {
    "ExecuteTime": {
     "end_time": "2020-03-11T15:44:24.537113Z",
     "start_time": "2020-03-11T15:44:24.529538Z"
    }
   },
   "outputs": [],
   "source": [
    "# create difference between x and y\n"
   ]
  },
  {
   "cell_type": "markdown",
   "metadata": {
    "ExecuteTime": {
     "end_time": "2020-03-11T15:45:04.754557Z",
     "start_time": "2020-03-11T15:45:04.734426Z"
    }
   },
   "source": [
    "# Collections"
   ]
  },
  {
   "cell_type": "code",
   "execution_count": null,
   "metadata": {
    "ExecuteTime": {
     "end_time": "2020-03-11T15:54:57.393654Z",
     "start_time": "2020-03-11T15:54:57.385198Z"
    }
   },
   "outputs": [],
   "source": [
    "# for each word in sentence count occurence\n",
    "# sentence : black cat jumped over white cat\n",
    "from collections import Counter\n",
    "sentence = 'black cat jumped over white cat'\n",
    "counter = Counter(sentence.split(' '))\n",
    "counter"
   ]
  },
  {
   "cell_type": "code",
   "execution_count": null,
   "metadata": {
    "ExecuteTime": {
     "end_time": "2020-03-11T15:55:44.451564Z",
     "start_time": "2020-03-11T15:55:44.444159Z"
    }
   },
   "outputs": [],
   "source": [
    "# print the most common words\n",
    "counter.most_common()"
   ]
  },
  {
   "cell_type": "code",
   "execution_count": null,
   "metadata": {
    "ExecuteTime": {
     "end_time": "2020-03-11T15:59:15.012844Z",
     "start_time": "2020-03-11T15:59:15.002829Z"
    }
   },
   "outputs": [],
   "source": [
    "# count the occurence of words in the same sentence but now use defaultdict\n",
    "from collections import defaultdict\n",
    "\n",
    "dct = defaultdict(int)\n",
    "for w in sentence.split(' '):\n",
    "    dct[w] += 1\n",
    "\n",
    "dct"
   ]
  },
  {
   "cell_type": "code",
   "execution_count": null,
   "metadata": {
    "ExecuteTime": {
     "end_time": "2020-03-11T16:04:25.177162Z",
     "start_time": "2020-03-11T16:04:25.173530Z"
    }
   },
   "outputs": [],
   "source": [
    "# create deque from list set used in first exercise\n",
    "from collections import deque\n",
    "dq = deque(n)"
   ]
  },
  {
   "cell_type": "code",
   "execution_count": null,
   "metadata": {
    "ExecuteTime": {
     "end_time": "2020-03-11T16:05:05.916501Z",
     "start_time": "2020-03-11T16:05:05.907605Z"
    }
   },
   "outputs": [],
   "source": [
    "# append number 10 to deque\n",
    "dq.append(10)\n",
    "dq"
   ]
  },
  {
   "cell_type": "code",
   "execution_count": null,
   "metadata": {
    "ExecuteTime": {
     "end_time": "2020-03-11T16:06:29.127981Z",
     "start_time": "2020-03-11T16:06:29.120365Z"
    }
   },
   "outputs": [],
   "source": [
    "# remove element from the right end from deque\n",
    "dq.pop()\n",
    "dq"
   ]
  },
  {
   "cell_type": "code",
   "execution_count": null,
   "metadata": {
    "ExecuteTime": {
     "end_time": "2020-03-11T16:07:02.050705Z",
     "start_time": "2020-03-11T16:07:02.042250Z"
    }
   },
   "outputs": [],
   "source": [
    "# remove element from the left end from deque\n",
    "dq.popleft()\n",
    "dq"
   ]
  },
  {
   "cell_type": "code",
   "execution_count": null,
   "metadata": {
    "ExecuteTime": {
     "end_time": "2020-03-11T16:07:21.038366Z",
     "start_time": "2020-03-11T16:07:21.030386Z"
    }
   },
   "outputs": [],
   "source": [
    "# delete all elements from deque\n",
    "dq.clear()\n",
    "dq"
   ]
  },
  {
   "cell_type": "code",
   "execution_count": null,
   "metadata": {
    "ExecuteTime": {
     "end_time": "2020-03-11T16:11:44.222478Z",
     "start_time": "2020-03-11T16:11:44.213975Z"
    }
   },
   "outputs": [],
   "source": [
    "# create named tuple (people) with name and surname as position names\n",
    "from collections import namedtuple\n",
    "NT = namedtuple('people', ('name', 'surname'))\n",
    "person = NT('John','Wick')\n",
    "person"
   ]
  },
  {
   "cell_type": "code",
   "execution_count": null,
   "metadata": {
    "ExecuteTime": {
     "end_time": "2020-03-11T16:12:14.629340Z",
     "start_time": "2020-03-11T16:12:14.623847Z"
    }
   },
   "outputs": [],
   "source": [
    "# print name and surname\n",
    "print(person.name)\n",
    "print(person.surname)"
   ]
  },
  {
   "cell_type": "markdown",
   "metadata": {},
   "source": [
    "# Exception handling"
   ]
  },
  {
   "cell_type": "code",
   "execution_count": 5,
   "metadata": {
    "ExecuteTime": {
     "end_time": "2020-03-12T09:39:38.206192Z",
     "start_time": "2020-03-12T09:39:38.197520Z"
    }
   },
   "outputs": [
    {
     "data": {
      "text/plain": [
       "['DOG', 1.2, 'CAT', 'TREE', 9, 'DESK']"
      ]
     },
     "execution_count": 5,
     "metadata": {},
     "output_type": "execute_result"
    }
   ],
   "source": [
    "# transforn all strings from list to upper, if the element is not string don't transform it\n",
    "# use try except block without use of 'if' statement\n",
    "lst = ['dog', 1.2, 'cat', 'tree', 9, 'desk', ]\n",
    "\n",
    "new_lst = []\n",
    "for el in lst:\n",
    "    try:\n",
    "        new_el = el.upper()\n",
    "    except:\n",
    "        new_el = el\n",
    "    \n",
    "    new_lst.append(new_el)\n",
    "new_lst"
   ]
  },
  {
   "cell_type": "code",
   "execution_count": null,
   "metadata": {},
   "outputs": [],
   "source": []
  }
 ],
 "metadata": {
  "kernelspec": {
   "display_name": "Python 3",
   "language": "python",
   "name": "python3"
  },
  "language_info": {
   "codemirror_mode": {
    "name": "ipython",
    "version": 3
   },
   "file_extension": ".py",
   "mimetype": "text/x-python",
   "name": "python",
   "nbconvert_exporter": "python",
   "pygments_lexer": "ipython3",
   "version": "3.7.4"
  },
  "toc": {
   "base_numbering": 1,
   "nav_menu": {},
   "number_sections": true,
   "sideBar": true,
   "skip_h1_title": false,
   "title_cell": "Table of Contents",
   "title_sidebar": "Contents",
   "toc_cell": false,
   "toc_position": {},
   "toc_section_display": true,
   "toc_window_display": false
  },
  "varInspector": {
   "cols": {
    "lenName": 16,
    "lenType": 16,
    "lenVar": 40
   },
   "kernels_config": {
    "python": {
     "delete_cmd_postfix": "",
     "delete_cmd_prefix": "del ",
     "library": "var_list.py",
     "varRefreshCmd": "print(var_dic_list())"
    },
    "r": {
     "delete_cmd_postfix": ") ",
     "delete_cmd_prefix": "rm(",
     "library": "var_list.r",
     "varRefreshCmd": "cat(var_dic_list()) "
    }
   },
   "types_to_exclude": [
    "module",
    "function",
    "builtin_function_or_method",
    "instance",
    "_Feature"
   ],
   "window_display": false
  }
 },
 "nbformat": 4,
 "nbformat_minor": 2
}
